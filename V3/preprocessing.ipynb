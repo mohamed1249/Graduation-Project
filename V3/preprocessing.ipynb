{
 "cells": [
  {
   "cell_type": "code",
   "execution_count": 2,
   "metadata": {},
   "outputs": [
    {
     "data": {
      "text/html": [
       "<div>\n",
       "<style scoped>\n",
       "    .dataframe tbody tr th:only-of-type {\n",
       "        vertical-align: middle;\n",
       "    }\n",
       "\n",
       "    .dataframe tbody tr th {\n",
       "        vertical-align: top;\n",
       "    }\n",
       "\n",
       "    .dataframe thead th {\n",
       "        text-align: right;\n",
       "    }\n",
       "</style>\n",
       "<table border=\"1\" class=\"dataframe\">\n",
       "  <thead>\n",
       "    <tr style=\"text-align: right;\">\n",
       "      <th></th>\n",
       "      <th>information</th>\n",
       "      <th>source_file_name</th>\n",
       "      <th>page_number</th>\n",
       "    </tr>\n",
       "  </thead>\n",
       "  <tbody>\n",
       "    <tr>\n",
       "      <th>1</th>\n",
       "      <td>DIAGNOSTIC AND STATISTICAL \\nMANUAL OF\\nMENTAL...</td>\n",
       "      <td>Diagnostic and statistical manual of mental di...</td>\n",
       "      <td>2</td>\n",
       "    </tr>\n",
       "    <tr>\n",
       "      <th>2</th>\n",
       "      <td>American Psychiatric Association\\nOfficers 201...</td>\n",
       "      <td>Diagnostic and statistical manual of mental di...</td>\n",
       "      <td>3</td>\n",
       "    </tr>\n",
       "    <tr>\n",
       "      <th>3</th>\n",
       "      <td>PRESIDENT -ELECT  JEFFREY  A. L IEBERMAN , M.D</td>\n",
       "      <td>Diagnostic and statistical manual of mental di...</td>\n",
       "      <td>3</td>\n",
       "    </tr>\n",
       "    <tr>\n",
       "      <th>4</th>\n",
       "      <td>TREASURER  DAVID  FASSLER , M.D</td>\n",
       "      <td>Diagnostic and statistical manual of mental di...</td>\n",
       "      <td>3</td>\n",
       "    </tr>\n",
       "    <tr>\n",
       "      <th>5</th>\n",
       "      <td>SECRETARY  ROGER  PEELE , M.D</td>\n",
       "      <td>Diagnostic and statistical manual of mental di...</td>\n",
       "      <td>3</td>\n",
       "    </tr>\n",
       "  </tbody>\n",
       "</table>\n",
       "</div>"
      ],
      "text/plain": [
       "                                         information   \n",
       "1  DIAGNOSTIC AND STATISTICAL \\nMANUAL OF\\nMENTAL...  \\\n",
       "2  American Psychiatric Association\\nOfficers 201...   \n",
       "3     PRESIDENT -ELECT  JEFFREY  A. L IEBERMAN , M.D   \n",
       "4                    TREASURER  DAVID  FASSLER , M.D   \n",
       "5                      SECRETARY  ROGER  PEELE , M.D   \n",
       "\n",
       "                                    source_file_name  page_number  \n",
       "1  Diagnostic and statistical manual of mental di...            2  \n",
       "2  Diagnostic and statistical manual of mental di...            3  \n",
       "3  Diagnostic and statistical manual of mental di...            3  \n",
       "4  Diagnostic and statistical manual of mental di...            3  \n",
       "5  Diagnostic and statistical manual of mental di...            3  "
      ]
     },
     "execution_count": 2,
     "metadata": {},
     "output_type": "execute_result"
    }
   ],
   "source": [
    "import pandas as pd\n",
    "import re\n",
    "\n",
    "df = pd.read_csv('preprocessed_dataset.csv').dropna()\n",
    "df.head()"
   ]
  },
  {
   "cell_type": "code",
   "execution_count": 3,
   "metadata": {},
   "outputs": [],
   "source": [
    "# {\"messages\": [{\"role\": \"system\", \"content\": \"Marv is a factual chatbot that is also sarcastic.\"}, {\"role\": \"user\", \"content\": \"What's the capital of France?\"}, {\"role\": \"assistant\", \"content\": \"Paris, as if everyone doesn't know that already.\"}]}"
   ]
  },
  {
   "cell_type": "code",
   "execution_count": 11,
   "metadata": {},
   "outputs": [
    {
     "name": "stdout",
     "output_type": "stream",
     "text": [
      "{\"messages\": [{\"role\": \"system\", \"content\": \"Dr.Bassel is a Mental Health Professional who helps people with mental disorders like autism and ADHD.\"}, {\"role\": \"user\", \"content\": \"JEFFREY  GELLER , M\"}, {\"role\": \"assistant\", \"content\": \"D., M.P.H\"}]}\n",
      "{\"messages\": [{\"role\": \"system\", \"content\": \"Dr.Bassel is a Mental Health Professional who helps people with mental disorders like autism and ADHD.\"}, {\"role\": \"user\", \"content\": \"ISBN 978-0-89042-554-1 (hardcover : alk\"}, {\"role\": \"assistant\", \"content\": \" paper)  — ISBN 978-0-89042-555-8 (pbk. : alk. paper).    I. American Psychiatric Association. II. American Psychiatric Association. DSM-5 Task Force\"}]}\n",
      "{\"messages\": [{\"role\": \"system\", \"content\": \"Dr.Bassel is a Mental Health Professional who helps people with mental disorders like autism and ADHD.\"}, {\"role\": \"user\", \"content\": \"III\"}, {\"role\": \"assistant\", \"content\": \" Title: DSM-5. IV. Title: DSM-V. .    [DNLM: 1. Diagnostic and statistical manual of mental disorders. 5th ed. 2. Men\n"
     ]
    }
   ],
   "source": [
    "dct = \"\"\n",
    "for info in df.information:\n",
    "    sents = info.split('.')\n",
    "    wrd_lens = [len(wrd) for wrd in info.split()]\n",
    "    avg_wrd_lens = sum(wrd_lens)/len(wrd_lens)\n",
    "    if len(sents) > 4 and avg_wrd_lens > 3:\n",
    "        # dct += '{\"prompt\": \"' + re.sub(r\"\\n\\s*\", \".    \", sents[0])+'\", \"completion\": \"'+ re.sub(r\"\\n\\s*\", \".    \", '.'.join(sents[1:]))+'\"}\\n'\n",
    "        dct += '{\"messages\": [{\"role\": \"system\", \"content\": \"Dr.Bassel is a Mental Health Professional who helps people with mental disorders like autism and ADHD.\"}, {\"role\": \"user\", \"content\": \"'+re.sub(r\"\\n\\s*\", \".    \", sents[0])+'\"}, {\"role\": \"assistant\", \"content\": \"'+re.sub(r\"\\n\\s*\", \".    \", '.'.join(sents[1:]))+'\"}]}\\n'\n",
    "\n",
    "print(dct[:1000])"
   ]
  },
  {
   "cell_type": "code",
   "execution_count": 15,
   "metadata": {},
   "outputs": [],
   "source": [
    "import joblib\n",
    "\n",
    "cleaned_data = ''.join(char for char in dct if char.isprintable() or char == '\\n')\n",
    "\n",
    "\n",
    "with open('preprocessed_dataset.jsonl', 'wb') as f:\n",
    "    joblib.dump(cleaned_data.encode('utf-8'), f)"
   ]
  },
  {
   "cell_type": "code",
   "execution_count": null,
   "metadata": {},
   "outputs": [],
   "source": []
  }
 ],
 "metadata": {
  "kernelspec": {
   "display_name": "Python 3",
   "language": "python",
   "name": "python3"
  },
  "language_info": {
   "codemirror_mode": {
    "name": "ipython",
    "version": 3
   },
   "file_extension": ".py",
   "mimetype": "text/x-python",
   "name": "python",
   "nbconvert_exporter": "python",
   "pygments_lexer": "ipython3",
   "version": "3.9.4"
  }
 },
 "nbformat": 4,
 "nbformat_minor": 2
}
